{
 "cells": [
  {
   "cell_type": "code",
   "execution_count": 1,
   "metadata": {},
   "outputs": [
    {
     "name": "stderr",
     "output_type": "stream",
     "text": [
      "INFO:     Started server process [15789]\n",
      "INFO:     Uvicorn running on http://127.0.0.1:8000 (Press CTRL+C to quit)\n",
      "INFO:     Waiting for application startup.\n",
      "INFO:     Application startup complete.\n"
     ]
    },
    {
     "name": "stdout",
     "output_type": "stream",
     "text": [
      "INFO:     127.0.0.1:39870 - \"GET /scheduler_address HTTP/1.1\" 200 OK\n",
      "INFO:     127.0.0.1:39870 - \"GET /dashboard_link HTTP/1.1\" 200 OK\n",
      "INFO:     127.0.0.1:39870 - \"GET /dashboard_link HTTP/1.1\" 200 OK\n",
      "INFO:     127.0.0.1:39870 - \"GET /dashboard_link HTTP/1.1\" 200 OK\n",
      "INFO:     127.0.0.1:39870 - \"GET /scheduler_address HTTP/1.1\" 200 OK\n",
      "INFO:     127.0.0.1:39870 - \"GET /scheduler_address HTTP/1.1\" 200 OK\n",
      "INFO:     127.0.0.1:39890 - \"GET /scheduler_address HTTP/1.1\" 200 OK\n",
      "INFO:     127.0.0.1:39890 - \"GET /scheduler_address HTTP/1.1\" 200 OK\n",
      "INFO:     127.0.0.1:39890 - \"GET /dashboard_link HTTP/1.1\" 200 OK\n",
      "INFO:     127.0.0.1:39902 - \"POST /scale?n=2 HTTP/1.1\" 200 OK\n",
      "INFO:     127.0.0.1:39916 - \"GET /scheduler_address HTTP/1.1\" 200 OK\n",
      "INFO:     127.0.0.1:39916 - \"GET /scheduler_address HTTP/1.1\" 200 OK\n",
      "INFO:     127.0.0.1:39916 - \"GET /dashboard_link HTTP/1.1\" 200 OK\n"
     ]
    }
   ],
   "source": [
    "from dask.distributed import LocalCluster\n",
    "from dask_remote.runner import ClusterProcess, ApiProcess\n",
    "\n",
    "cluster_proc = ClusterProcess(LocalCluster, dict(n_workers=0))\n",
    "cluster_proc.start()  # uses the multiprocessing.Process API\n",
    "\n",
    "cluster_proxy = cluster_proc.proxy  # type: ClusterProcessProxy\n",
    "cluster_proxy.scale(4)  # command is proxied to the cluster object in the child process\n",
    "\n",
    "api_proc = ApiProcess(cluster_proxy)\n",
    "api_proc.start()\n",
    "\n",
    "# cluster_proc.join()  # cluster remains alive until terminated\n",
    "# api_proc.join()"
   ]
  },
  {
   "cell_type": "code",
   "execution_count": 2,
   "metadata": {},
   "outputs": [
    {
     "data": {
      "application/vnd.jupyter.widget-view+json": {
       "model_id": "41227c97be9f453ba58f511fe3ef2bd3",
       "version_major": 2,
       "version_minor": 0
      },
      "text/plain": [
       "VBox(children=(HTML(value='<h2>ApiCluster</h2>'), HBox(children=(HTML(value='\\n<div>\\n  <style scoped>\\n    .d…"
      ]
     },
     "metadata": {},
     "output_type": "display_data"
    }
   ],
   "source": [
    "from dask_remote.client import ApiCluster\n",
    "\n",
    "cluster = ApiCluster(\n",
    "    url=\"http://127.0.0.1:8000\",\n",
    ")\n",
    "cluster"
   ]
  },
  {
   "cell_type": "code",
   "execution_count": 5,
   "metadata": {},
   "outputs": [
    {
     "data": {
      "text/html": [
       "<table style=\"border: 2px solid white;\">\n",
       "<tr>\n",
       "<td style=\"vertical-align: top; border: 0px solid white\">\n",
       "<h3 style=\"text-align: left;\">Client</h3>\n",
       "<ul style=\"text-align: left; list-style: none; margin: 0; padding: 0;\">\n",
       "  <li><b>Scheduler: </b>tcp://127.0.0.1:45955</li>\n",
       "  <li><b>Dashboard: </b><a href='http://127.0.0.1:8787/status' target='_blank'>http://127.0.0.1:8787/status</a>\n",
       "</ul>\n",
       "</td>\n",
       "<td style=\"vertical-align: top; border: 0px solid white\">\n",
       "<h3 style=\"text-align: left;\">Cluster</h3>\n",
       "<ul style=\"text-align: left; list-style:none; margin: 0; padding: 0;\">\n",
       "  <li><b>Workers: </b>2</li>\n",
       "  <li><b>Cores: </b>24</li>\n",
       "  <li><b>Memory: </b>66.57 GB</li>\n",
       "</ul>\n",
       "</td>\n",
       "</tr>\n",
       "</table>"
      ],
      "text/plain": [
       "<Client: 'tcp://127.0.0.1:45955' processes=2 threads=24, memory=66.57 GB>"
      ]
     },
     "execution_count": 5,
     "metadata": {},
     "output_type": "execute_result"
    }
   ],
   "source": [
    "from dask.distributed import Client\n",
    "\n",
    "client = Client(cluster)\n",
    "client"
   ]
  },
  {
   "cell_type": "code",
   "execution_count": null,
   "metadata": {},
   "outputs": [],
   "source": []
  }
 ],
 "metadata": {
  "kernelspec": {
   "display_name": "Python 3",
   "language": "python",
   "name": "python3"
  },
  "language_info": {
   "codemirror_mode": {
    "name": "ipython",
    "version": 3
   },
   "file_extension": ".py",
   "mimetype": "text/x-python",
   "name": "python",
   "nbconvert_exporter": "python",
   "pygments_lexer": "ipython3",
   "version": "3.7.4"
  }
 },
 "nbformat": 4,
 "nbformat_minor": 4
}
