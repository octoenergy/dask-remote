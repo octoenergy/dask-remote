{
 "cells": [
  {
   "cell_type": "code",
   "execution_count": 1,
   "metadata": {},
   "outputs": [],
   "source": [
    "%load_ext autoreload\n",
    "%autoreload 2"
   ]
  },
  {
   "cell_type": "code",
   "execution_count": 2,
   "metadata": {},
   "outputs": [],
   "source": [
    "from dask.distributed import LocalCluster\n",
    "from dask_remote.runner import ClusterProcess, ApiProcess"
   ]
  },
  {
   "cell_type": "code",
   "execution_count": 3,
   "metadata": {},
   "outputs": [
    {
     "name": "stderr",
     "output_type": "stream",
     "text": [
      "INFO:     Started server process [30840]\n",
      "INFO:     Uvicorn running on http://127.0.0.1:8000 (Press CTRL+C to quit)\n",
      "INFO:     Waiting for application startup.\n",
      "INFO:     Application startup complete.\n",
      "/home/igor/.pyenv/versions/3.7.4/envs/data/lib/python3.7/site-packages/distributed/dashboard/core.py:72: UserWarning: \n",
      "Port 8787 is already in use. \n",
      "Perhaps you already have a cluster running?\n",
      "Hosting the diagnostics dashboard on a random port instead.\n",
      "  warnings.warn(\"\\n\" + msg)\n"
     ]
    },
    {
     "name": "stdout",
     "output_type": "stream",
     "text": [
      "INFO:     127.0.0.1:45546 - \"GET /scheduler_address HTTP/1.1\" 200 OK\n",
      "INFO:     127.0.0.1:45552 - \"GET /scheduler_address HTTP/1.1\" 200 OK\n",
      "INFO:     127.0.0.1:45556 - \"GET /scheduler_address HTTP/1.1\" 200 OK\n",
      "INFO:     127.0.0.1:45560 - \"GET /scheduler_address HTTP/1.1\" 200 OK\n",
      "INFO:     127.0.0.1:45564 - \"POST /scale/1 HTTP/1.1\" 200 OK\n"
     ]
    },
    {
     "name": "stderr",
     "output_type": "stream",
     "text": [
      "WARNING:  Value could not be returned: Return value <distributed.deploy.adaptive.Adaptive object at 0x7f0ff3a94790> can not be sent back\n"
     ]
    },
    {
     "name": "stdout",
     "output_type": "stream",
     "text": [
      "INFO:     127.0.0.1:45572 - \"POST /adapt?minimum=1&maximum=0 HTTP/1.1\" 200 OK\n"
     ]
    },
    {
     "name": "stderr",
     "output_type": "stream",
     "text": [
      "WARNING:  Value could not be returned: Return value <distributed.deploy.adaptive.Adaptive object at 0x7f0fab790d90> can not be sent back\n"
     ]
    },
    {
     "name": "stdout",
     "output_type": "stream",
     "text": [
      "INFO:     127.0.0.1:45580 - \"POST /adapt?minimum=2&maximum=0 HTTP/1.1\" 200 OK\n"
     ]
    },
    {
     "name": "stderr",
     "output_type": "stream",
     "text": [
      "WARNING:  Value could not be returned: Return value <distributed.deploy.adaptive.Adaptive object at 0x7f0ff3a33450> can not be sent back\n"
     ]
    },
    {
     "name": "stdout",
     "output_type": "stream",
     "text": [
      "INFO:     127.0.0.1:45596 - \"POST /adapt?minimum=2&maximum=-1 HTTP/1.1\" 200 OK\n"
     ]
    },
    {
     "name": "stderr",
     "output_type": "stream",
     "text": [
      "WARNING:  Value could not be returned: Return value <distributed.deploy.adaptive.Adaptive object at 0x7f0ff39d2b10> can not be sent back\n"
     ]
    },
    {
     "name": "stdout",
     "output_type": "stream",
     "text": [
      "INFO:     127.0.0.1:45604 - \"POST /adapt?minimum=5&maximum=-1 HTTP/1.1\" 200 OK\n",
      "INFO:     127.0.0.1:45622 - \"POST /scale/1 HTTP/1.1\" 200 OK\n",
      "INFO:     127.0.0.1:45632 - \"GET /scheduler_address HTTP/1.1\" 200 OK\n",
      "INFO:     127.0.0.1:45636 - \"GET /scheduler_address HTTP/1.1\" 200 OK\n"
     ]
    }
   ],
   "source": [
    "cluster_cls = LocalCluster\n",
    "cluster_kwargs = dict(n_workers=0)\n",
    "\n",
    "cluster_process = ClusterProcess(cluster_cls, cluster_kwargs=cluster_kwargs)\n",
    "cluster_process.start()\n",
    "\n",
    "# Create API app\n",
    "api_process = ApiProcess(cluster_process.proxy)\n",
    "api_process.start()"
   ]
  },
  {
   "cell_type": "code",
   "execution_count": null,
   "metadata": {},
   "outputs": [],
   "source": []
  },
  {
   "cell_type": "code",
   "execution_count": 4,
   "metadata": {},
   "outputs": [],
   "source": [
    "from dask_remote.client import ApiCluster"
   ]
  },
  {
   "cell_type": "code",
   "execution_count": 5,
   "metadata": {},
   "outputs": [],
   "source": [
    "cluster = ApiCluster(\"http://127.0.0.1:8000\")"
   ]
  },
  {
   "cell_type": "code",
   "execution_count": 6,
   "metadata": {},
   "outputs": [
    {
     "data": {
      "application/vnd.jupyter.widget-view+json": {
       "model_id": "74404ba9579749598ce2b9505e69f955",
       "version_major": 2,
       "version_minor": 0
      },
      "text/plain": [
       "VBox(children=(HTML(value='<h2>ApiCluster</h2>'), HBox(children=(HTML(value='\\n<div>\\n  <style scoped>\\n    .d…"
      ]
     },
     "metadata": {},
     "output_type": "display_data"
    }
   ],
   "source": [
    "cluster"
   ]
  },
  {
   "cell_type": "code",
   "execution_count": 7,
   "metadata": {},
   "outputs": [
    {
     "data": {
      "text/plain": [
       "'tcp://127.0.0.1:42657'"
      ]
     },
     "execution_count": 7,
     "metadata": {},
     "output_type": "execute_result"
    }
   ],
   "source": [
    "cluster.scheduler_address"
   ]
  },
  {
   "cell_type": "code",
   "execution_count": 28,
   "metadata": {},
   "outputs": [],
   "source": [
    "from dask.distributed import Client"
   ]
  },
  {
   "cell_type": "code",
   "execution_count": 29,
   "metadata": {},
   "outputs": [],
   "source": [
    "client = Client(cluster)"
   ]
  },
  {
   "cell_type": "code",
   "execution_count": 30,
   "metadata": {},
   "outputs": [
    {
     "data": {
      "text/plain": [
       "{'type': 'Scheduler',\n",
       " 'id': 'Scheduler-796339b6-9585-47c8-bd21-de26aa70c1a8',\n",
       " 'address': 'tcp://127.0.0.1:36927',\n",
       " 'services': {'dashboard': 42751},\n",
       " 'workers': {'tcp://127.0.0.1:38931': {'type': 'Worker',\n",
       "   'id': 0,\n",
       "   'host': '127.0.0.1',\n",
       "   'resources': {},\n",
       "   'local_directory': '/home/igor/checkouts/octopus/dask-remote/notebooks/dask-worker-space/worker-lv7e3r63',\n",
       "   'name': 0,\n",
       "   'nthreads': 12,\n",
       "   'memory_limit': 33283788800,\n",
       "   'last_seen': 1588022564.683366,\n",
       "   'services': {},\n",
       "   'metrics': {'cpu': 8.0,\n",
       "    'memory': 59781120,\n",
       "    'time': 1588022564.183499,\n",
       "    'read_bytes': 10542.484019802132,\n",
       "    'write_bytes': 10714.982807036336,\n",
       "    'num_fds': 21,\n",
       "    'executing': 0,\n",
       "    'in_memory': 0,\n",
       "    'ready': 0,\n",
       "    'in_flight': 0,\n",
       "    'bandwidth': {'total': 100000000, 'workers': {}, 'types': {}}},\n",
       "   'nanny': 'tcp://127.0.0.1:41661'},\n",
       "  'tcp://127.0.0.1:40473': {'type': 'Worker',\n",
       "   'id': 1,\n",
       "   'host': '127.0.0.1',\n",
       "   'resources': {},\n",
       "   'local_directory': '/home/igor/checkouts/octopus/dask-remote/notebooks/dask-worker-space/worker-9wwp00mz',\n",
       "   'name': 1,\n",
       "   'nthreads': 12,\n",
       "   'memory_limit': 33283788800,\n",
       "   'last_seen': 1588022564.68125,\n",
       "   'services': {},\n",
       "   'metrics': {'cpu': 8.0,\n",
       "    'memory': 61784064,\n",
       "    'time': 1588022564.182944,\n",
       "    'read_bytes': 10524.460821256247,\n",
       "    'write_bytes': 10696.664708362037,\n",
       "    'num_fds': 21,\n",
       "    'executing': 0,\n",
       "    'in_memory': 0,\n",
       "    'ready': 0,\n",
       "    'in_flight': 0,\n",
       "    'bandwidth': {'total': 100000000, 'workers': {}, 'types': {}}},\n",
       "   'nanny': 'tcp://127.0.0.1:44109'}}}"
      ]
     },
     "execution_count": 30,
     "metadata": {},
     "output_type": "execute_result"
    }
   ],
   "source": [
    "client.scheduler_info()"
   ]
  },
  {
   "cell_type": "code",
   "execution_count": null,
   "metadata": {},
   "outputs": [],
   "source": []
  }
 ],
 "metadata": {
  "kernelspec": {
   "display_name": "Python 3",
   "language": "python",
   "name": "python3"
  },
  "language_info": {
   "codemirror_mode": {
    "name": "ipython",
    "version": 3
   },
   "file_extension": ".py",
   "mimetype": "text/x-python",
   "name": "python",
   "nbconvert_exporter": "python",
   "pygments_lexer": "ipython3",
   "version": "3.7.4"
  }
 },
 "nbformat": 4,
 "nbformat_minor": 4
}
