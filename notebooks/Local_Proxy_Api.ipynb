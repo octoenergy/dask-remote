{
 "cells": [
  {
   "cell_type": "code",
   "execution_count": 2,
   "metadata": {},
   "outputs": [],
   "source": [
    "%load_ext autoreload\n",
    "%autoreload 2"
   ]
  },
  {
   "cell_type": "code",
   "execution_count": 3,
   "metadata": {},
   "outputs": [],
   "source": [
    "from dask.distributed import LocalCluster\n",
    "from dask_remote.runner import ClusterProcess, ApiProcess"
   ]
  },
  {
   "cell_type": "code",
   "execution_count": 4,
   "metadata": {},
   "outputs": [
    {
     "name": "stderr",
     "output_type": "stream",
     "text": [
      "INFO:     Started server process [438]\n",
      "INFO:     Uvicorn running on http://127.0.0.1:8000 (Press CTRL+C to quit)\n",
      "INFO:     Waiting for application startup.\n",
      "INFO:     Application startup complete.\n"
     ]
    },
    {
     "name": "stdout",
     "output_type": "stream",
     "text": [
      "INFO:     127.0.0.1:34488 - \"GET /scheduler_address HTTP/1.1\" 200 OK\n",
      "INFO:     127.0.0.1:34496 - \"GET /dashboard_link HTTP/1.1\" 200 OK\n",
      "INFO:     127.0.0.1:34500 - \"GET /dashboard_link HTTP/1.1\" 200 OK\n",
      "INFO:     127.0.0.1:34504 - \"GET /dashboard_link HTTP/1.1\" 200 OK\n",
      "INFO:     127.0.0.1:34508 - \"GET /scheduler_address HTTP/1.1\" 200 OK\n",
      "INFO:     127.0.0.1:34512 - \"GET /dashboard_link HTTP/1.1\" 200 OK\n",
      "INFO:     127.0.0.1:34516 - \"GET /scheduler_address HTTP/1.1\" 200 OK\n",
      "INFO:     127.0.0.1:34520 - \"GET /scheduler_address HTTP/1.1\" 200 OK\n",
      "INFO:     127.0.0.1:34528 - \"GET /dashboard_link HTTP/1.1\" 200 OK\n",
      "INFO:     127.0.0.1:34532 - \"POST /scale?n=5 HTTP/1.1\" 200 OK\n",
      "INFO:     127.0.0.1:34556 - \"GET /dashboard_link HTTP/1.1\" 200 OK\n",
      "INFO:     127.0.0.1:34598 - \"GET /docs HTTP/1.1\" 200 OK\n",
      "INFO:     127.0.0.1:34598 - \"GET /openapi.json HTTP/1.1\" 200 OK\n",
      "INFO:     127.0.0.1:34616 - \"GET /dashboard_link HTTP/1.1\" 200 OK\n"
     ]
    }
   ],
   "source": [
    "cluster_cls = LocalCluster\n",
    "cluster_kwargs = dict(n_workers=0)\n",
    "\n",
    "cluster_process = ClusterProcess(cluster_cls, cluster_kwargs=cluster_kwargs)\n",
    "cluster_process.start()\n",
    "\n",
    "# Create API app\n",
    "api_process = ApiProcess(cluster_process.proxy, dashboard_link=\"my.dask.domain.com\")\n",
    "api_process.start()"
   ]
  },
  {
   "cell_type": "code",
   "execution_count": null,
   "metadata": {},
   "outputs": [],
   "source": []
  },
  {
   "cell_type": "code",
   "execution_count": 5,
   "metadata": {},
   "outputs": [],
   "source": [
    "from dask_remote.client import ApiCluster"
   ]
  },
  {
   "cell_type": "code",
   "execution_count": 6,
   "metadata": {},
   "outputs": [],
   "source": [
    "cluster = ApiCluster(\"http://127.0.0.1:8000\")"
   ]
  },
  {
   "cell_type": "code",
   "execution_count": 7,
   "metadata": {},
   "outputs": [
    {
     "data": {
      "application/vnd.jupyter.widget-view+json": {
       "model_id": "3f24e47625ff42649e0e07666fb037b1",
       "version_major": 2,
       "version_minor": 0
      },
      "text/plain": [
       "VBox(children=(HTML(value='<h2>ApiCluster</h2>'), HBox(children=(HTML(value='\\n<div>\\n  <style scoped>\\n    .d…"
      ]
     },
     "metadata": {},
     "output_type": "display_data"
    }
   ],
   "source": [
    "cluster"
   ]
  },
  {
   "cell_type": "code",
   "execution_count": 8,
   "metadata": {},
   "outputs": [
    {
     "data": {
      "text/plain": [
       "'tcp://127.0.0.1:46561'"
      ]
     },
     "execution_count": 8,
     "metadata": {},
     "output_type": "execute_result"
    }
   ],
   "source": [
    "cluster.scheduler_address"
   ]
  },
  {
   "cell_type": "code",
   "execution_count": 9,
   "metadata": {},
   "outputs": [
    {
     "data": {
      "text/plain": [
       "'my.dask.domain.com'"
      ]
     },
     "execution_count": 9,
     "metadata": {},
     "output_type": "execute_result"
    }
   ],
   "source": [
    "cluster.dashboard_link"
   ]
  },
  {
   "cell_type": "code",
   "execution_count": 10,
   "metadata": {},
   "outputs": [],
   "source": [
    "from dask.distributed import Client"
   ]
  },
  {
   "cell_type": "code",
   "execution_count": 11,
   "metadata": {},
   "outputs": [],
   "source": [
    "client = Client(cluster)"
   ]
  },
  {
   "cell_type": "code",
   "execution_count": 13,
   "metadata": {},
   "outputs": [
    {
     "data": {
      "text/html": [
       "<table style=\"border: 2px solid white;\">\n",
       "<tr>\n",
       "<td style=\"vertical-align: top; border: 0px solid white\">\n",
       "<h3 style=\"text-align: left;\">Client</h3>\n",
       "<ul style=\"text-align: left; list-style: none; margin: 0; padding: 0;\">\n",
       "  <li><b>Scheduler: </b>tcp://127.0.0.1:46561</li>\n",
       "  <li><b>Dashboard: </b><a href='my.dask.domain.com' target='_blank'>my.dask.domain.com</a>\n",
       "</ul>\n",
       "</td>\n",
       "<td style=\"vertical-align: top; border: 0px solid white\">\n",
       "<h3 style=\"text-align: left;\">Cluster</h3>\n",
       "<ul style=\"text-align: left; list-style:none; margin: 0; padding: 0;\">\n",
       "  <li><b>Workers: </b>5</li>\n",
       "  <li><b>Cores: </b>60</li>\n",
       "  <li><b>Memory: </b>166.42 GB</li>\n",
       "</ul>\n",
       "</td>\n",
       "</tr>\n",
       "</table>"
      ],
      "text/plain": [
       "<Client: 'tcp://127.0.0.1:46561' processes=5 threads=60, memory=166.42 GB>"
      ]
     },
     "execution_count": 13,
     "metadata": {},
     "output_type": "execute_result"
    }
   ],
   "source": [
    "client"
   ]
  },
  {
   "cell_type": "code",
   "execution_count": 30,
   "metadata": {},
   "outputs": [
    {
     "data": {
      "text/plain": [
       "{'type': 'Scheduler',\n",
       " 'id': 'Scheduler-796339b6-9585-47c8-bd21-de26aa70c1a8',\n",
       " 'address': 'tcp://127.0.0.1:36927',\n",
       " 'services': {'dashboard': 42751},\n",
       " 'workers': {'tcp://127.0.0.1:38931': {'type': 'Worker',\n",
       "   'id': 0,\n",
       "   'host': '127.0.0.1',\n",
       "   'resources': {},\n",
       "   'local_directory': '/home/igor/checkouts/octopus/dask-remote/notebooks/dask-worker-space/worker-lv7e3r63',\n",
       "   'name': 0,\n",
       "   'nthreads': 12,\n",
       "   'memory_limit': 33283788800,\n",
       "   'last_seen': 1588022564.683366,\n",
       "   'services': {},\n",
       "   'metrics': {'cpu': 8.0,\n",
       "    'memory': 59781120,\n",
       "    'time': 1588022564.183499,\n",
       "    'read_bytes': 10542.484019802132,\n",
       "    'write_bytes': 10714.982807036336,\n",
       "    'num_fds': 21,\n",
       "    'executing': 0,\n",
       "    'in_memory': 0,\n",
       "    'ready': 0,\n",
       "    'in_flight': 0,\n",
       "    'bandwidth': {'total': 100000000, 'workers': {}, 'types': {}}},\n",
       "   'nanny': 'tcp://127.0.0.1:41661'},\n",
       "  'tcp://127.0.0.1:40473': {'type': 'Worker',\n",
       "   'id': 1,\n",
       "   'host': '127.0.0.1',\n",
       "   'resources': {},\n",
       "   'local_directory': '/home/igor/checkouts/octopus/dask-remote/notebooks/dask-worker-space/worker-9wwp00mz',\n",
       "   'name': 1,\n",
       "   'nthreads': 12,\n",
       "   'memory_limit': 33283788800,\n",
       "   'last_seen': 1588022564.68125,\n",
       "   'services': {},\n",
       "   'metrics': {'cpu': 8.0,\n",
       "    'memory': 61784064,\n",
       "    'time': 1588022564.182944,\n",
       "    'read_bytes': 10524.460821256247,\n",
       "    'write_bytes': 10696.664708362037,\n",
       "    'num_fds': 21,\n",
       "    'executing': 0,\n",
       "    'in_memory': 0,\n",
       "    'ready': 0,\n",
       "    'in_flight': 0,\n",
       "    'bandwidth': {'total': 100000000, 'workers': {}, 'types': {}}},\n",
       "   'nanny': 'tcp://127.0.0.1:44109'}}}"
      ]
     },
     "execution_count": 30,
     "metadata": {},
     "output_type": "execute_result"
    }
   ],
   "source": [
    "client.scheduler_info()"
   ]
  },
  {
   "cell_type": "code",
   "execution_count": null,
   "metadata": {},
   "outputs": [],
   "source": []
  }
 ],
 "metadata": {
  "kernelspec": {
   "display_name": "Python 3",
   "language": "python",
   "name": "python3"
  },
  "language_info": {
   "codemirror_mode": {
    "name": "ipython",
    "version": 3
   },
   "file_extension": ".py",
   "mimetype": "text/x-python",
   "name": "python",
   "nbconvert_exporter": "python",
   "pygments_lexer": "ipython3",
   "version": "3.7.4"
  }
 },
 "nbformat": 4,
 "nbformat_minor": 4
}
